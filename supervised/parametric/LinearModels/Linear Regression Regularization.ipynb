{
 "cells": [
  {
   "cell_type": "markdown",
   "metadata": {},
   "source": [
    "# Linear Regression Regularization"
   ]
  },
  {
   "cell_type": "markdown",
   "metadata": {},
   "source": [
    "## I. Linear Regression Basics\n",
    "\n",
    "Linear regression is a tool often underrated tool in the machine learning toolkit. I cannot give linear models the treatment they deserve in this article, but I will give a brief overview. Linear models assume a model of the form:\n",
    "\n",
    "$y_i = \\beta_0 + \\beta_1 x_{i1} + + \\beta_2x _{i2} + ... + \\beta_k x_{ik} + \\epsilon_i$\n",
    "\n",
    "where $y_i$ is the label of the *i*-th observation,  $\\hat{\\beta}_j$ is the coefficient for the *j*-th variable, $x_{ij}$ is the value for the *j*-th variable for the *i*-th observation, and $\\epsilon_i$ is the error for the *i*-th observation.\n",
    "\n",
    "Some assumptions about $\\epsilon_i$ make linear regression particularly useful when fitting it when minimizing sum of squared residuals (SSR), which is equivalent to minimizing the mean squared error (MSE). These are the assumptions of [Gauss-Markov Theorem](https://en.wikipedia.org/wiki/Gauss%E2%80%93Markov_theorem). Again, I am not providing a deep dive of OLS models here because they require much more attention, but you should be aware it.\n",
    "\n",
    "Although the sum of squared residuals (SSR) is the most common loss function in linear regression, there are others. There are alternatives such as [Least Absolute Deviation](https://en.wikipedia.org/wiki/Least_absolute_deviations) and [Huber Loss](https://en.wikipedia.org/wiki/Huber_loss), which are less sensitive to outliers. Their details are not discussed here, but you should review them so you have them in your toolkit.\n",
    "\n",
    "The loss function in matrix form is:\n",
    "\n",
    "# $\\text{min } (y - X\\hat{\\beta})^T(y - X\\hat{\\beta})$\n",
    "\n",
    "where $y$ is the column vector of true values, $X$ is the design matrix, and $\\hat{\\beta}$ is the column vector of coefficient estimates in the linear model. A design matrix has rows representing observations and columns representing variables, typically the first column is all 1s for the intercept term.\n",
    "\n",
    "Using summation notation, the loss function is:\n",
    "\n",
    "# $\\text{min } \\Sigma_{i=1}^n (y_i - \\Sigma^k_{j=1} (\\hat{\\beta}_j x_{ij}))^2$\n",
    "\n",
    "where $y_i$ is the label for the *i*-th observation, $\\hat{\\beta}_j$ is the estimated coefficient for the *j*-th variable, and $x_{ij}$ is the value for the  *j*-th variable for the *i*-th observation.\n",
    "\n",
    "When minimizing the SSR, we have an analytical solution called the normal equations:\n",
    "\n",
    "Expanding $(y - X\\hat{\\beta})^T(y - X\\hat{\\beta})$ we get:\n",
    "\n",
    "# $\\epsilon^T \\epsilon = y^Ty - 2\\hat{\\beta}^T X^T y + \\hat{\\beta}^TX^TX\\hat{\\beta}$\n",
    "\n",
    "Our loss function will be at a local minima (or maxima) when the first derivative with respect to the estimated coefficients is zero. Taking the first derivative of the loss with respect to the coefficients we have:\n",
    "\n",
    "# $\\frac{d \\epsilon^T \\epsilon}{d\\hat{\\beta}} = - 2 X^T y + 2 X^TX\\hat{\\beta}$\n",
    "\n",
    "Setting the derivative of our loss to zero we get:\n",
    "\n",
    "# $0 = - 2 X^T y + 2 X^TX\\hat{\\beta}$\n",
    "\n",
    "Now we can start solving for the coefficient vector. First we move the $-2 X^T y$ from the left side to the right.\n",
    "\n",
    "# $2 X^T y = 2 X^TX\\hat{\\beta}$\n",
    "\n",
    "Now we can divide away the $2$s.\n",
    "\n",
    "# $X^T y = X^TX\\hat{\\beta}$\n",
    "\n",
    "# $(X^TX)^{-1}X^T y = \\hat{\\beta}$"
   ]
  },
  {
   "cell_type": "code",
   "execution_count": 5,
   "metadata": {},
   "outputs": [],
   "source": [
    "import numpy as np\n",
    "from LinearModel import OLS, Ridge\n",
    "import matplotlib.pyplot as plt\n",
    "\n",
    "size = 2000\n",
    "cols = 3\n",
    "eta = 1\n",
    "\n",
    "def make_datasets(size, cols, num_zero=0, beta_scale=1., intercept=1., eta=1., seed=1):\n",
    "    np.random.seed(seed)\n",
    "    \n",
    "    X = np.random.normal(loc=0, scale=1, size=(size,cols))\n",
    "    beta = np.random.normal(loc=0, scale=beta_scale, size=cols)\n",
    "    \n",
    "    if num_zero != 0.:\n",
    "        beta_indices = np.arange(0, beta.shape[0], 1)\n",
    "        zero_indices = np.random.choice(beta_indices, num_zero, replace=False)\n",
    "        beta[zero_indices] = 0\n",
    "    \n",
    "    y = intercept + np.matmul(X, beta) + np.random.normal(loc=0, \n",
    "                                                          scale=eta, \n",
    "                                                          size=size) \n",
    "    X_train = X[:round(size/2),:]\n",
    "    y_train = y[:round(size/2)]  \n",
    "    X_test = X[round(size/2):,:]\n",
    "    y_test = y[round(size/2):] \n",
    "    \n",
    "    return X_train, y_train, X_test, y_test\n",
    "\n",
    "\n",
    "X_train, y_train, X_test, y_test = make_datasets(size, cols, num_zero=1, beta_scale=1., eta=1)"
   ]
  },
  {
   "cell_type": "code",
   "execution_count": 2,
   "metadata": {},
   "outputs": [
    {
     "name": "stdout",
     "output_type": "stream",
     "text": [
      "Model df: 3\n",
      "Residual df: 996\n",
      "R-squared: 0.9002\n",
      "Adj. R-squared: 0.8999\n",
      "F-stat: 2993.9391\n",
      "F-prob: 0.0\n",
      "Est. Coef.: [ 0.9893 -2.8303  0.7886 -0.035 ]\n",
      "Est. Coef. Std. Error: [0.0311 0.0315 0.0304 0.0319]\n",
      "t-stats: [ 31.8331 -89.7663  25.9239  -1.0985]\n",
      "P(|t-stat| > 0): [0.     0.     0.     0.2722]\n"
     ]
    }
   ],
   "source": [
    "my_ols = OLS()\n",
    "my_ols.fit(X_train, y_train)  \n",
    "\n",
    "print(f\"Model df: {my_ols.df_model}\")\n",
    "print(f\"Residual df: {my_ols.df_residuals}\")\n",
    "print(f\"R-squared: {round(my_ols.R_sq, 4)}\")\n",
    "print(f\"Adj. R-squared: {round(my_ols.adj_R_sq, 4)}\")\n",
    "print(f\"F-stat: {round(my_ols.F_stat, 4)}\")\n",
    "print(f\"F-prob: {round(my_ols.F_prob, 4)}\")\n",
    "print(f\"Est. Coef.: {np.round(my_ols.beta_hat, 4)}\")\n",
    "print(f\"Est. Coef. Std. Error: {np.round(my_ols.beta_hat_se, 4)}\")\n",
    "print(f\"t-stats: {np.round(my_ols.beta_hat_t_stats, 4)}\")\n",
    "print(f\"P(|t-stat| > 0): {np.round(my_ols.beta_hat_prob, 4)}\")"
   ]
  },
  {
   "cell_type": "markdown",
   "metadata": {},
   "source": []
  },
  {
   "cell_type": "code",
   "execution_count": null,
   "metadata": {},
   "outputs": [],
   "source": []
  },
  {
   "cell_type": "markdown",
   "metadata": {},
   "source": [
    "# L2-Norm Regularization (Ridge Regression)"
   ]
  },
  {
   "cell_type": "code",
   "execution_count": 7,
   "metadata": {},
   "outputs": [
    {
     "data": {
      "image/png": "[encoded data removed]",
      "text/plain": [
       "<Figure size 432x288 with 1 Axes>"
      ]
     },
     "metadata": {
      "needs_background": "light"
     },
     "output_type": "display_data"
    }
   ],
   "source": [
    "X_train, y_train, X_test, y_test = make_datasets(100, 5, num_zero=0, beta_scale=4., eta=1, seed=2)\n",
    "\n",
    "coef_1, coef_2, coef_3, coef_4, coef_5 = [], [], [], [], []\n",
    "\n",
    "alphas = np.arange(0., 1000., 10)\n",
    "for alpha in alphas:\n",
    "    my_ridge = Ridge()\n",
    "    my_ridge.fit(X_train, y_train, alpha=alpha) \n",
    "\n",
    "    for i in range(len(my_ridge.beta_hat)):\n",
    "        beta_hat = my_ridge.beta_hat[i]\n",
    "        if i == 0:\n",
    "            coef_1.append(beta_hat)\n",
    "        elif i == 1:\n",
    "            coef_2.append(beta_hat)\n",
    "        elif i == 2:\n",
    "            coef_3.append(beta_hat)\n",
    "        elif i == 3:\n",
    "            coef_4.append(beta_hat)\n",
    "        else:\n",
    "            coef_5.append(beta_hat)\n",
    "        \n",
    "plt.plot(alphas, coef_1, color=\"blue\", label=\"Coef 1\")\n",
    "plt.plot(alphas, coef_2, color=\"red\", label=\"Coef 2\")\n",
    "plt.plot(alphas, coef_3, color=\"green\", label=\"Coef 3\")\n",
    "plt.plot(alphas, coef_4, color=\"orange\", label=\"Coef 4\")\n",
    "plt.plot(alphas, coef_5, color=\"purple\", label=\"Coef 5\")\n",
    "plt.title(\"Coefficients vs. Alpha\")\n",
    "plt.xlabel(\"Alpha\")\n",
    "plt.ylabel(\"Est. Coefs.\")\n",
    "plt.legend(loc=\"lower right\")\n",
    "plt.show()"
   ]
  }
 ],
 "metadata": {
  "kernelspec": {
   "display_name": "Python 3",
   "language": "python",
   "name": "python3"
  },
  "language_info": {
   "codemirror_mode": {
    "name": "ipython",
    "version": 3
   },
   "file_extension": ".py",
   "mimetype": "text/x-python",
   "name": "python",
   "nbconvert_exporter": "python",
   "pygments_lexer": "ipython3",
   "version": "3.8.5"
  }
 },
 "nbformat": 4,
 "nbformat_minor": 4
}
