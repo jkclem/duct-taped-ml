{
 "cells": [
  {
   "cell_type": "markdown",
   "metadata": {},
   "source": [
    "# Linear Regression Regularization"
   ]
  },
  {
   "cell_type": "markdown",
   "metadata": {},
   "source": [
    "## I. Linear Regression Basics\n",
    "\n",
    "Linear regression is a tool often underrated tool in the machine learning toolkit.\n",
    "\n",
    "The loss function most often used in linear regression is the sum of squared residuals (SSR). Minimizing this value is equivalent to minimizing the mean squared error (MSE).\n",
    "\n",
    "The loss function in matrix form is:\n",
    "\n",
    "# $\\text{min } (y - X\\hat{\\beta})^T(y - X\\hat{\\beta})$\n",
    "\n",
    "Using summation notation, the loss function is:\n",
    "\n",
    "# $\\text{min } \\Sigma_{i=1}^n (y_i - \\Sigma^k_{j=1} (\\hat{\\beta}_j x_{ij}))^2$\n",
    "\n",
    "where $y$ is the column vector of true values, $X$ is the design matrix, and $\\hat{\\beta}$ is the column vector of coefficient estimates in the linear model."
   ]
  },
  {
   "cell_type": "code",
   "execution_count": null,
   "metadata": {},
   "outputs": [],
   "source": []
  }
 ],
 "metadata": {
  "kernelspec": {
   "display_name": "Python 3",
   "language": "python",
   "name": "python3"
  },
  "language_info": {
   "codemirror_mode": {
    "name": "ipython",
    "version": 3
   },
   "file_extension": ".py",
   "mimetype": "text/x-python",
   "name": "python",
   "nbconvert_exporter": "python",
   "pygments_lexer": "ipython3",
   "version": "3.8.5"
  }
 },
 "nbformat": 4,
 "nbformat_minor": 4
}
