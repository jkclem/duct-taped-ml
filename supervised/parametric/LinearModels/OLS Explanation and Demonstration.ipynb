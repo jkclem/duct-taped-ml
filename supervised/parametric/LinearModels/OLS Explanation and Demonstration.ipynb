{
 "cells": [
  {
   "cell_type": "code",
   "execution_count": 3,
   "metadata": {},
   "outputs": [
    {
     "name": "stdout",
     "output_type": "stream",
     "text": [
      "                            OLS Regression Results                            \n",
      "==============================================================================\n",
      "Dep. Variable:                      y   R-squared:                       0.925\n",
      "Model:                            OLS   Adj. R-squared:                  0.923\n",
      "Method:                 Least Squares   F-statistic:                     396.9\n",
      "Date:                Sun, 14 Feb 2021   Prob (F-statistic):           5.94e-54\n",
      "Time:                        02:49:58   Log-Likelihood:                -147.38\n",
      "No. Observations:                 100   AIC:                             302.8\n",
      "Df Residuals:                      96   BIC:                             313.2\n",
      "Df Model:                           3                                         \n",
      "Covariance Type:            nonrobust                                         \n",
      "==============================================================================\n",
      "                 coef    std err          t      P>|t|      [0.025      0.975]\n",
      "------------------------------------------------------------------------------\n",
      "const          0.9915      0.109      9.067      0.000       0.774       1.209\n",
      "x1             2.0264      0.109     18.651      0.000       1.811       2.242\n",
      "x2            -3.1349      0.117    -26.764      0.000      -3.367      -2.902\n",
      "x3            -0.0053      0.120     -0.044      0.965      -0.244       0.233\n",
      "==============================================================================\n",
      "Omnibus:                        1.620   Durbin-Watson:                   1.963\n",
      "Prob(Omnibus):                  0.445   Jarque-Bera (JB):                1.128\n",
      "Skew:                          -0.028   Prob(JB):                        0.569\n",
      "Kurtosis:                       3.517   Cond. No.                         1.24\n",
      "==============================================================================\n",
      "\n",
      "Notes:\n",
      "[1] Standard Errors assume that the covariance matrix of the errors is correctly specified.\n"
     ]
    }
   ],
   "source": [
    "import statsmodels.api as sm\n",
    "import numpy as np\n",
    "import LinearModel as lm\n",
    "\n",
    "size = 100\n",
    "np.random.seed(1)\n",
    "X1 = np.random.normal(loc=0, scale=1, size=size)       \n",
    "X2 = np.random.normal(loc=0, scale=1, size=size)   \n",
    "X3 = np.random.normal(loc=0, scale=1, size=size) \n",
    "X = np.concatenate([X1, X2, X3]).reshape(size, 3)\n",
    "y = 1 + 2*X[:,0] + -3*X[:,1] + 0*X[:,2] + np.random.normal(loc=0, scale=1, \n",
    "                                                          size=size)      \n",
    "        \n",
    "\n",
    "\n",
    "# Create an array of 1s equal in length to the observations in X.\n",
    "intercept_column = np.repeat(1, repeats=X.shape[0])\n",
    "# Insert it at the 0-th column index.\n",
    "X_copy = np.insert(X, 0, intercept_column, axis=1)\n",
    "        \n",
    "        \n",
    "sm_model = sm.OLS(y, X_copy).fit()\n",
    "print(sm_model.summary())       \n",
    "        "
   ]
  },
  {
   "cell_type": "code",
   "execution_count": 4,
   "metadata": {},
   "outputs": [
    {
     "name": "stdout",
     "output_type": "stream",
     "text": [
      "3\n",
      "96\n",
      "0.9253906152817284\n",
      "0.9230590720092824\n",
      "396.9004676936213\n",
      "1.1102230246251565e-16\n",
      "[ 0.99149103  2.02639271 -3.1349261  -0.0052813 ]\n",
      "[0.10935505 0.10864965 0.1171335  0.12014304]\n",
      "[  9.06671499  18.65070685 -26.7637022   -0.04395841]\n",
      "[1.50990331e-14 0.00000000e+00 0.00000000e+00 9.65028860e-01]\n"
     ]
    }
   ],
   "source": [
    "my_ols = lm.OLS()\n",
    "my_ols.fit(X, y, method=\"qr\")  \n",
    "\n",
    "print(my_ols.df_model)\n",
    "print(my_ols.df_residuals)\n",
    "print(my_ols.R_sq)\n",
    "print(my_ols.adj_R_sq)\n",
    "print(my_ols.F_stat)\n",
    "print(my_ols.F_prob)\n",
    "print(my_ols.beta_hat)\n",
    "print(my_ols.beta_hat_se)\n",
    "print(my_ols.beta_hat_t_stats)\n",
    "print(my_ols.beta_hat_prob)"
   ]
  },
  {
   "cell_type": "code",
   "execution_count": 5,
   "metadata": {},
   "outputs": [
    {
     "name": "stdout",
     "output_type": "stream",
     "text": [
      "3\n",
      "96\n",
      "0.9253906152817284\n",
      "0.9230590720092824\n",
      "396.9004676936213\n",
      "1.1102230246251565e-16\n",
      "[ 0.99149103  2.02639271 -3.1349261  -0.0052813 ]\n",
      "[0.10935505 0.10864965 0.1171335  0.12014304]\n",
      "[  9.06671499  18.65070685 -26.7637022   -0.04395841]\n",
      "[1.50990331e-14 0.00000000e+00 0.00000000e+00 9.65028860e-01]\n"
     ]
    }
   ],
   "source": [
    "my_ols = lm.OLS()\n",
    "my_ols.fit(X, y, method=\"moore-penrose\")  \n",
    "\n",
    "print(my_ols.df_model)\n",
    "print(my_ols.df_residuals)\n",
    "print(my_ols.R_sq)\n",
    "print(my_ols.adj_R_sq)\n",
    "print(my_ols.F_stat)\n",
    "print(my_ols.F_prob)\n",
    "print(my_ols.beta_hat)\n",
    "print(my_ols.beta_hat_se)\n",
    "print(my_ols.beta_hat_t_stats)\n",
    "print(my_ols.beta_hat_prob)"
   ]
  },
  {
   "cell_type": "code",
   "execution_count": 6,
   "metadata": {},
   "outputs": [
    {
     "name": "stdout",
     "output_type": "stream",
     "text": [
      "3\n",
      "96\n",
      "0.9253906152817284\n",
      "0.9230590720092824\n",
      "396.9004676936211\n",
      "1.1102230246251565e-16\n",
      "[ 0.99149103  2.02639271 -3.1349261  -0.0052813 ]\n",
      "[0.10935505 0.10864965 0.1171335  0.12014304]\n",
      "[  9.06671499  18.65070685 -26.7637022   -0.04395841]\n",
      "[1.50990331e-14 0.00000000e+00 0.00000000e+00 9.65028860e-01]\n"
     ]
    }
   ],
   "source": [
    "my_ols = lm.OLS()\n",
    "my_ols.fit(X, y, method=\"svd\")  \n",
    "\n",
    "print(my_ols.df_model)\n",
    "print(my_ols.df_residuals)\n",
    "print(my_ols.R_sq)\n",
    "print(my_ols.adj_R_sq)\n",
    "print(my_ols.F_stat)\n",
    "print(my_ols.F_prob)\n",
    "print(my_ols.beta_hat)\n",
    "print(my_ols.beta_hat_se)\n",
    "print(my_ols.beta_hat_t_stats)\n",
    "print(my_ols.beta_hat_prob)"
   ]
  }
 ],
 "metadata": {
  "kernelspec": {
   "display_name": "Python 3",
   "language": "python",
   "name": "python3"
  },
  "language_info": {
   "codemirror_mode": {
    "name": "ipython",
    "version": 3
   },
   "file_extension": ".py",
   "mimetype": "text/x-python",
   "name": "python",
   "nbconvert_exporter": "python",
   "pygments_lexer": "ipython3",
   "version": "3.8.5"
  }
 },
 "nbformat": 4,
 "nbformat_minor": 4
}
