{
 "cells": [
  {
   "cell_type": "code",
   "execution_count": 2,
   "metadata": {},
   "outputs": [],
   "source": [
    "from LinearModel import LogisticRegression"
   ]
  },
  {
   "cell_type": "markdown",
   "metadata": {},
   "source": [
    "# Creating Data\n",
    "\n",
    "Before we can test out the implementation, we need to create some data. To create the best case for logistic regression, I am sampling independent Bernoulli trials where the probability of a `1` is $\\frac{1}{1+e^{X\\beta}}$. This is the exact form that logistic regression assumes."
   ]
  },
  {
   "cell_type": "code",
   "execution_count": 8,
   "metadata": {},
   "outputs": [
    {
     "name": "stdout",
     "output_type": "stream",
     "text": [
      "Optimization terminated successfully.\n"
     ]
    }
   ],
   "source": [
    "import numpy as np\n",
    "from scipy.stats import bernoulli\n",
    "import matplotlib.pyplot as plt\n",
    "\n",
    "np.random.seed(2)\n",
    "\n",
    "cols = 4\n",
    "n = 100\n",
    "\n",
    "beta = np.random.normal(scale=1, size=cols)\n",
    "x = np.random.normal(size=(n, cols-1))\n",
    "\n",
    "X = np.insert(x, 0, np.repeat(1, n), axis=1)\n",
    "\n",
    "log_odds = np.matmul(X, beta) + np.random.normal(scale=0.001, size=n)\n",
    "probs = 1/(1+np.exp(-log_odds))\n",
    "\n",
    "my_bernoulli = bernoulli(p=probs)\n",
    "y = my_bernoulli.rvs()\n",
    "\n",
    "my_logistic = LogisticRegression()\n",
    "my_logistic.add_intercept = False\n",
    "my_logistic.fit(X, y, method=\"Newton-CG\")"
   ]
  },
  {
   "cell_type": "code",
   "execution_count": 4,
   "metadata": {},
   "outputs": [
    {
     "data": {
      "image/png": "[encoded data removed]",
      "text/plain": [
       "<Figure size 432x288 with 1 Axes>"
      ]
     },
     "metadata": {
      "needs_background": "light"
     },
     "output_type": "display_data"
    }
   ],
   "source": [
    "plt.scatter(my_logistic.predict_probabilities(X), probs,\n",
    "            color=np.where(y == 1, \"blue\", \"red\"),\n",
    "            alpha=0.25)\n",
    "plt.show()"
   ]
  },
  {
   "cell_type": "code",
   "execution_count": 6,
   "metadata": {},
   "outputs": [
    {
     "name": "stdout",
     "output_type": "stream",
     "text": [
      "[-0.0798  0.0272 -2.2801  1.8417]\n"
     ]
    }
   ],
   "source": [
    "print(np.round(my_logistic.beta_hat, 4))"
   ]
  },
  {
   "cell_type": "code",
   "execution_count": 5,
   "metadata": {},
   "outputs": [
    {
     "data": {
      "text/plain": [
       "0.86"
      ]
     },
     "execution_count": 5,
     "metadata": {},
     "output_type": "execute_result"
    }
   ],
   "source": [
    " y_hat = my_logistic.predict_classes(X)\n",
    "\n",
    "np.sum(y_hat == y)/n"
   ]
  },
  {
   "cell_type": "code",
   "execution_count": 7,
   "metadata": {},
   "outputs": [
    {
     "name": "stdout",
     "output_type": "stream",
     "text": [
      "Optimization terminated successfully.\n",
      "         Current function value: 0.375544\n",
      "         Iterations 7\n",
      "                           Logit Regression Results                           \n",
      "==============================================================================\n",
      "Dep. Variable:                      y   No. Observations:                  100\n",
      "Model:                          Logit   Df Residuals:                       96\n",
      "Method:                           MLE   Df Model:                            3\n",
      "Date:                Tue, 08 Jun 2021   Pseudo R-squ.:                  0.4543\n",
      "Time:                        22:38:18   Log-Likelihood:                -37.554\n",
      "converged:                       True   LL-Null:                       -68.814\n",
      "Covariance Type:            nonrobust   LLR p-value:                 1.702e-13\n",
      "==============================================================================\n",
      "                 coef    std err          z      P>|z|      [0.025      0.975]\n",
      "------------------------------------------------------------------------------\n",
      "const         -0.0798      0.299     -0.267      0.789      -0.665       0.505\n",
      "x1             0.0272      0.283      0.096      0.923      -0.527       0.582\n",
      "x2            -2.2801      0.493     -4.628      0.000      -3.246      -1.314\n",
      "x3             1.8417      0.446      4.127      0.000       0.967       2.716\n",
      "==============================================================================\n"
     ]
    }
   ],
   "source": [
    "import statsmodels.api as sm\n",
    "\n",
    "# building the model and fitting the data\n",
    "log_reg = sm.Logit(y, X).fit()\n",
    "\n",
    "print(log_reg.summary())"
   ]
  }
 ],
 "metadata": {
  "kernelspec": {
   "display_name": "Python 3",
   "language": "python",
   "name": "python3"
  },
  "language_info": {
   "codemirror_mode": {
    "name": "ipython",
    "version": 3
   },
   "file_extension": ".py",
   "mimetype": "text/x-python",
   "name": "python",
   "nbconvert_exporter": "python",
   "pygments_lexer": "ipython3",
   "version": "3.8.5"
  }
 },
 "nbformat": 4,
 "nbformat_minor": 4
}
