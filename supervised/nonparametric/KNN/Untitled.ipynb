{
 "cells": [
  {
   "cell_type": "code",
   "execution_count": 14,
   "metadata": {},
   "outputs": [
    {
     "data": {
      "text/plain": [
       "<matplotlib.collections.PathCollection at 0x189ce9d1760>"
      ]
     },
     "execution_count": 14,
     "metadata": {},
     "output_type": "execute_result"
    },
    {
     "data": {
      "image/png": "[encoded data removed]",
      "text/plain": [
       "<Figure size 432x288 with 1 Axes>"
      ]
     },
     "metadata": {
      "needs_background": "light"
     },
     "output_type": "display_data"
    }
   ],
   "source": [
    "import numpy as np\n",
    "import matplotlib.pyplot as plt\n",
    "\n",
    "\n",
    "size = 100\n",
    "X_1 = np.transpose(np.array([np.random.normal(loc=10, scale=2, size=size),\n",
    "                             np.random.normal(loc=20, scale=1, size=size)]))\n",
    "               \n",
    "X_2 = np.transpose(np.array([np.random.normal(loc=-1, scale=2, size=size),\n",
    "                             np.random.normal(loc=4, scale=3, size=size)]))\n",
    "X = np.append(X_1, X_2, axis=0)\n",
    "\n",
    "y_1 = np.repeat(\"blue\", repeats=size)\n",
    "y_2 = np.repeat(\"red\", repeats=size)\n",
    "y = np.append(y_1, y_2)\n",
    "plt.scatter(np.transpose(X)[0], np.transpose(X)[1], color=y)"
   ]
  },
  {
   "cell_type": "code",
   "execution_count": 21,
   "metadata": {},
   "outputs": [
    {
     "data": {
      "text/plain": [
       "array([23.49963453, 20.11116643, 23.51360911, 23.55209947, 23.54979013,\n",
       "       23.02900226, 24.32433903, 23.71053632, 18.26603962, 21.70743756,\n",
       "       23.42126879, 21.3932698 , 23.55826568, 23.35590704, 19.97119167,\n",
       "       19.96964212, 22.16594529, 20.43849584, 23.5998323 , 21.85253289,\n",
       "       21.36615163, 23.91503634, 24.12400129, 20.2788088 , 20.94291345,\n",
       "       22.24164383, 22.1834638 , 20.42949369, 22.21762137, 21.56217374,\n",
       "       23.57523685, 21.37818905, 24.00546391, 24.44371614, 21.9798209 ,\n",
       "       23.8066292 , 22.21748075, 22.63727162, 22.82126853, 20.40676603,\n",
       "       21.19302576, 22.65416629, 24.14309643, 21.8620729 , 21.15581233,\n",
       "       21.4750416 , 23.28354765, 23.16760035, 22.33352489, 23.5691911 ,\n",
       "       22.42634688, 22.81448373, 20.06678844, 22.50734129, 25.27830699,\n",
       "       23.0768818 , 22.87921513, 21.1533169 , 21.54956361, 23.34850302,\n",
       "       21.51937255, 21.59750257, 23.11269419, 21.85782224, 21.80596145,\n",
       "       22.55860151, 22.38076325, 23.60158388, 23.4607988 , 20.45625951,\n",
       "       21.90769201, 20.34238418, 23.55959339, 22.19868977, 22.49060652,\n",
       "       21.863773  , 22.49163382, 22.55098671, 21.10097814, 22.82463441,\n",
       "       23.84973111, 24.98941506, 22.81632797, 22.93155907, 23.06577591,\n",
       "       22.22522821, 20.67873161, 23.26484295, 22.63775893, 21.38632423,\n",
       "       22.27548457, 21.52171977, 23.45095657, 24.04331795, 20.44435675,\n",
       "       23.16341373, 23.6483429 , 20.43086317, 24.39644819, 22.72398485,\n",
       "        1.71073353,  1.20449815,  3.00028048,  0.18893116,  5.62199139,\n",
       "        6.61812087,  5.9067303 ,  9.66380345,  1.3697307 ,  2.50068638,\n",
       "        7.8723895 ,  4.56753031,  6.7083456 ,  7.55643607,  3.69882232,\n",
       "        5.14195129,  3.73511405,  8.72677052,  2.68794042,  4.14107958,\n",
       "        4.03949605,  2.70228234,  8.71398483,  1.42822456,  5.08834678,\n",
       "        9.85947129,  5.75490668,  6.15373975,  5.02805604,  5.4548076 ,\n",
       "        6.98873692,  1.76874016,  0.90598995,  1.53280749,  3.75146648,\n",
       "        3.23225954, 10.08228602,  4.79449104,  9.52546565,  0.71037436,\n",
       "        8.03742204,  3.55691823,  6.06659493,  9.9881262 ,  5.52722649,\n",
       "        3.58843107,  3.23640301,  1.73275221,  3.07040686,  1.28236435,\n",
       "        3.30747642,  1.47888244,  5.27625896,  7.33595665,  4.93833476,\n",
       "        3.34413567,  4.25720432,  2.42235518,  5.58315678,  4.71096991,\n",
       "        2.56612111,  7.95361871,  2.74292231,  3.17248756,  1.98111073,\n",
       "        2.52242567,  6.14348245,  4.30452108,  6.28400835,  3.31970914,\n",
       "        5.80613022,  3.01562828,  5.92137787,  7.74708065,  2.27433502,\n",
       "        8.1187592 ,  4.1465527 ,  4.39283981,  2.7415467 ,  2.44788383,\n",
       "        1.65332816,  3.94256074,  7.2746631 ,  3.35426664,  6.33971141,\n",
       "        3.18163012,  6.40001136,  2.02420451,  4.20011989,  4.80213679,\n",
       "        0.58842026,  5.09465678,  6.35101974,  3.99059936,  5.87893324,\n",
       "        4.64890618,  7.50321618,  1.07721962,  3.67408684,  7.03957235])"
      ]
     },
     "execution_count": 21,
     "metadata": {},
     "output_type": "execute_result"
    }
   ],
   "source": [
    "def euclidean_distances(array_1, array_2): \n",
    "    return np.sqrt(np.sum((array_1-array_2)**2, axis=1))\n",
    "\n",
    "euclidean_distances(X, np.array([0, 0]))"
   ]
  },
  {
   "cell_type": "code",
   "execution_count": 31,
   "metadata": {},
   "outputs": [
    {
     "ename": "AttributeError",
     "evalue": "'KNN' object has no attribute '_k_closest_indices'",
     "output_type": "error",
     "traceback": [
      "\u001b[1;31m---------------------------------------------------------------------------\u001b[0m",
      "\u001b[1;31mAttributeError\u001b[0m                            Traceback (most recent call last)",
      "\u001b[1;32m<ipython-input-31-ce298cbc5f09>\u001b[0m in \u001b[0;36m<module>\u001b[1;34m\u001b[0m\n\u001b[0;32m     23\u001b[0m \u001b[0mmy_knn\u001b[0m \u001b[1;33m=\u001b[0m \u001b[0mKNN\u001b[0m\u001b[1;33m(\u001b[0m\u001b[1;36m10\u001b[0m\u001b[1;33m)\u001b[0m\u001b[1;33m\u001b[0m\u001b[1;33m\u001b[0m\u001b[0m\n\u001b[0;32m     24\u001b[0m \u001b[0mmy_knn\u001b[0m\u001b[1;33m.\u001b[0m\u001b[0mfit\u001b[0m\u001b[1;33m(\u001b[0m\u001b[0mX\u001b[0m\u001b[1;33m,\u001b[0m \u001b[0my\u001b[0m\u001b[1;33m)\u001b[0m\u001b[1;33m\u001b[0m\u001b[1;33m\u001b[0m\u001b[0m\n\u001b[1;32m---> 25\u001b[1;33m \u001b[0mmy_knn\u001b[0m\u001b[1;33m.\u001b[0m\u001b[0m_k_closest_indices\u001b[0m\u001b[1;33m(\u001b[0m\u001b[0mnp\u001b[0m\u001b[1;33m.\u001b[0m\u001b[0marray\u001b[0m\u001b[1;33m(\u001b[0m\u001b[1;33m[\u001b[0m\u001b[1;36m0\u001b[0m\u001b[1;33m,\u001b[0m \u001b[1;36m0\u001b[0m\u001b[1;33m]\u001b[0m\u001b[1;33m)\u001b[0m\u001b[1;33m)\u001b[0m\u001b[1;33m\u001b[0m\u001b[1;33m\u001b[0m\u001b[0m\n\u001b[0m",
      "\u001b[1;31mAttributeError\u001b[0m: 'KNN' object has no attribute '_k_closest_indices'"
     ]
    }
   ],
   "source": [
    "class KNN():\n",
    "    \n",
    "    def __init__(self, k, weights=\"uniform\"):\n",
    "        self.k = k\n",
    "        self.weights = weights\n",
    "        self._X = None\n",
    "        self._y = None\n",
    "        \n",
    "    def fit(self, X, y):\n",
    "        self._X = X\n",
    "        self._y = y\n",
    "        return\n",
    "    \n",
    "    def _euclidean_distances(self, array):\n",
    "        return np.sqrt(np.sum((self._X-array)**2, axis=1))\n",
    "    \n",
    "    def _k_closest_labels(self, array):\n",
    "        euclidean_distances = self._euclidean_distances(array)\n",
    "        sorted_indices = np.argsort(euclidean_distances, axis=None, kind=\"quicksort\")\n",
    "        k_closest_indices = sorted_indices[0:self.k]\n",
    "        return y[k_closest_indicies]\n",
    "    \n",
    "my_knn = KNN(10)\n",
    "my_knn.fit(X, y)\n",
    "my_knn._k_closest_ls(np.array([0, 0]))"
   ]
  }
 ],
 "metadata": {
  "kernelspec": {
   "display_name": "Python 3",
   "language": "python",
   "name": "python3"
  },
  "language_info": {
   "codemirror_mode": {
    "name": "ipython",
    "version": 3
   },
   "file_extension": ".py",
   "mimetype": "text/x-python",
   "name": "python",
   "nbconvert_exporter": "python",
   "pygments_lexer": "ipython3",
   "version": "3.8.5"
  }
 },
 "nbformat": 4,
 "nbformat_minor": 4
}
